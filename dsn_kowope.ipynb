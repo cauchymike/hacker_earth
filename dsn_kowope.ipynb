{
 "cells": [
  {
   "cell_type": "code",
   "execution_count": 15,
   "metadata": {},
   "outputs": [],
   "source": [
    "#importing required libraries\n",
    "import numpy as np\n",
    "import pandas as pd\n",
    "import matplotlib.pyplot as plt\n",
    "%matplotlib inline\n",
    "import warnings\n",
    "import seaborn as sns"
   ]
  },
  {
   "cell_type": "code",
   "execution_count": 16,
   "metadata": {},
   "outputs": [],
   "source": [
    "#loading the dataset\n",
    "df_train = pd.read_csv('dsn_2020.csv')\n",
    "df_test = pd.read_csv('dsn_2020_test.csv')"
   ]
  },
  {
   "cell_type": "code",
   "execution_count": 3,
   "metadata": {},
   "outputs": [
    {
     "data": {
      "text/html": [
       "<div>\n",
       "<style scoped>\n",
       "    .dataframe tbody tr th:only-of-type {\n",
       "        vertical-align: middle;\n",
       "    }\n",
       "\n",
       "    .dataframe tbody tr th {\n",
       "        vertical-align: top;\n",
       "    }\n",
       "\n",
       "    .dataframe thead th {\n",
       "        text-align: right;\n",
       "    }\n",
       "</style>\n",
       "<table border=\"1\" class=\"dataframe\">\n",
       "  <thead>\n",
       "    <tr style=\"text-align: right;\">\n",
       "      <th></th>\n",
       "      <th>Applicant_ID</th>\n",
       "      <th>form_field1</th>\n",
       "      <th>form_field2</th>\n",
       "      <th>form_field3</th>\n",
       "      <th>form_field4</th>\n",
       "      <th>form_field5</th>\n",
       "      <th>form_field6</th>\n",
       "      <th>form_field7</th>\n",
       "      <th>form_field8</th>\n",
       "      <th>form_field9</th>\n",
       "      <th>...</th>\n",
       "      <th>form_field42</th>\n",
       "      <th>form_field43</th>\n",
       "      <th>form_field44</th>\n",
       "      <th>form_field45</th>\n",
       "      <th>form_field46</th>\n",
       "      <th>form_field47</th>\n",
       "      <th>form_field48</th>\n",
       "      <th>form_field49</th>\n",
       "      <th>form_field50</th>\n",
       "      <th>default_status</th>\n",
       "    </tr>\n",
       "  </thead>\n",
       "  <tbody>\n",
       "    <tr>\n",
       "      <th>0</th>\n",
       "      <td>Apcnt_1000000</td>\n",
       "      <td>3436.0</td>\n",
       "      <td>0.28505</td>\n",
       "      <td>1.6560</td>\n",
       "      <td>0.0</td>\n",
       "      <td>0.000</td>\n",
       "      <td>0.0</td>\n",
       "      <td>10689720.0</td>\n",
       "      <td>252072.0</td>\n",
       "      <td>4272776.0</td>\n",
       "      <td>...</td>\n",
       "      <td>0.392854</td>\n",
       "      <td>2.02</td>\n",
       "      <td>0.711632</td>\n",
       "      <td>0.0</td>\n",
       "      <td>0.0</td>\n",
       "      <td>charge</td>\n",
       "      <td>NaN</td>\n",
       "      <td>1.129518</td>\n",
       "      <td>0.044335</td>\n",
       "      <td>no</td>\n",
       "    </tr>\n",
       "    <tr>\n",
       "      <th>1</th>\n",
       "      <td>Apcnt_1000004</td>\n",
       "      <td>3456.0</td>\n",
       "      <td>0.67400</td>\n",
       "      <td>0.2342</td>\n",
       "      <td>0.0</td>\n",
       "      <td>0.000</td>\n",
       "      <td>0.0</td>\n",
       "      <td>898979.0</td>\n",
       "      <td>497531.0</td>\n",
       "      <td>9073814.0</td>\n",
       "      <td>...</td>\n",
       "      <td>0.314281</td>\n",
       "      <td>8.08</td>\n",
       "      <td>0.183584</td>\n",
       "      <td>NaN</td>\n",
       "      <td>0.0</td>\n",
       "      <td>charge</td>\n",
       "      <td>349.805730</td>\n",
       "      <td>1.620483</td>\n",
       "      <td>0.322436</td>\n",
       "      <td>no</td>\n",
       "    </tr>\n",
       "    <tr>\n",
       "      <th>2</th>\n",
       "      <td>Apcnt_1000008</td>\n",
       "      <td>3276.0</td>\n",
       "      <td>0.53845</td>\n",
       "      <td>3.1510</td>\n",
       "      <td>0.0</td>\n",
       "      <td>6.282</td>\n",
       "      <td>NaN</td>\n",
       "      <td>956940.0</td>\n",
       "      <td>NaN</td>\n",
       "      <td>192944.0</td>\n",
       "      <td>...</td>\n",
       "      <td>0.162965</td>\n",
       "      <td>18.18</td>\n",
       "      <td>0.791136</td>\n",
       "      <td>0.0</td>\n",
       "      <td>0.0</td>\n",
       "      <td>charge</td>\n",
       "      <td>NaN</td>\n",
       "      <td>1.513370</td>\n",
       "      <td>0.011640</td>\n",
       "      <td>yes</td>\n",
       "    </tr>\n",
       "    <tr>\n",
       "      <th>3</th>\n",
       "      <td>Apcnt_1000012</td>\n",
       "      <td>3372.0</td>\n",
       "      <td>0.17005</td>\n",
       "      <td>0.5050</td>\n",
       "      <td>0.0</td>\n",
       "      <td>0.000</td>\n",
       "      <td>192166.0</td>\n",
       "      <td>3044703.0</td>\n",
       "      <td>385499.0</td>\n",
       "      <td>3986472.0</td>\n",
       "      <td>...</td>\n",
       "      <td>0.488884</td>\n",
       "      <td>2.02</td>\n",
       "      <td>0.685168</td>\n",
       "      <td>NaN</td>\n",
       "      <td>0.0</td>\n",
       "      <td>charge</td>\n",
       "      <td>89.940100</td>\n",
       "      <td>0.664452</td>\n",
       "      <td>0.082729</td>\n",
       "      <td>no</td>\n",
       "    </tr>\n",
       "    <tr>\n",
       "      <th>4</th>\n",
       "      <td>Apcnt_1000016</td>\n",
       "      <td>3370.0</td>\n",
       "      <td>0.77270</td>\n",
       "      <td>1.1010</td>\n",
       "      <td>0.0</td>\n",
       "      <td>0.000</td>\n",
       "      <td>1556.0</td>\n",
       "      <td>214728.0</td>\n",
       "      <td>214728.0</td>\n",
       "      <td>1284089.0</td>\n",
       "      <td>...</td>\n",
       "      <td>0.275000</td>\n",
       "      <td>12.12</td>\n",
       "      <td>0.438168</td>\n",
       "      <td>0.0</td>\n",
       "      <td>0.0</td>\n",
       "      <td>charge</td>\n",
       "      <td>97.887502</td>\n",
       "      <td>1.427891</td>\n",
       "      <td>0.045630</td>\n",
       "      <td>no</td>\n",
       "    </tr>\n",
       "  </tbody>\n",
       "</table>\n",
       "<p>5 rows × 52 columns</p>\n",
       "</div>"
      ],
      "text/plain": [
       "    Applicant_ID  form_field1  form_field2  form_field3  form_field4  \\\n",
       "0  Apcnt_1000000       3436.0      0.28505       1.6560          0.0   \n",
       "1  Apcnt_1000004       3456.0      0.67400       0.2342          0.0   \n",
       "2  Apcnt_1000008       3276.0      0.53845       3.1510          0.0   \n",
       "3  Apcnt_1000012       3372.0      0.17005       0.5050          0.0   \n",
       "4  Apcnt_1000016       3370.0      0.77270       1.1010          0.0   \n",
       "\n",
       "   form_field5  form_field6  form_field7  form_field8  form_field9  ...  \\\n",
       "0        0.000          0.0   10689720.0     252072.0    4272776.0  ...   \n",
       "1        0.000          0.0     898979.0     497531.0    9073814.0  ...   \n",
       "2        6.282          NaN     956940.0          NaN     192944.0  ...   \n",
       "3        0.000     192166.0    3044703.0     385499.0    3986472.0  ...   \n",
       "4        0.000       1556.0     214728.0     214728.0    1284089.0  ...   \n",
       "\n",
       "   form_field42  form_field43  form_field44  form_field45  form_field46  \\\n",
       "0      0.392854          2.02      0.711632           0.0           0.0   \n",
       "1      0.314281          8.08      0.183584           NaN           0.0   \n",
       "2      0.162965         18.18      0.791136           0.0           0.0   \n",
       "3      0.488884          2.02      0.685168           NaN           0.0   \n",
       "4      0.275000         12.12      0.438168           0.0           0.0   \n",
       "\n",
       "   form_field47  form_field48  form_field49  form_field50  default_status  \n",
       "0        charge           NaN      1.129518      0.044335              no  \n",
       "1        charge    349.805730      1.620483      0.322436              no  \n",
       "2        charge           NaN      1.513370      0.011640             yes  \n",
       "3        charge     89.940100      0.664452      0.082729              no  \n",
       "4        charge     97.887502      1.427891      0.045630              no  \n",
       "\n",
       "[5 rows x 52 columns]"
      ]
     },
     "execution_count": 3,
     "metadata": {},
     "output_type": "execute_result"
    }
   ],
   "source": [
    "df_train.head()"
   ]
  },
  {
   "cell_type": "code",
   "execution_count": 5,
   "metadata": {},
   "outputs": [
    {
     "name": "stdout",
     "output_type": "stream",
     "text": [
      "<class 'pandas.core.frame.DataFrame'>\n",
      "RangeIndex: 56000 entries, 0 to 55999\n",
      "Data columns (total 52 columns):\n",
      " #   Column          Non-Null Count  Dtype  \n",
      "---  ------          --------------  -----  \n",
      " 0   Applicant_ID    56000 non-null  object \n",
      " 1   form_field1     53471 non-null  float64\n",
      " 2   form_field2     52156 non-null  float64\n",
      " 3   form_field3     55645 non-null  float64\n",
      " 4   form_field4     55645 non-null  float64\n",
      " 5   form_field5     55645 non-null  float64\n",
      " 6   form_field6     42640 non-null  float64\n",
      " 7   form_field7     50837 non-null  float64\n",
      " 8   form_field8     42640 non-null  float64\n",
      " 9   form_field9     47992 non-null  float64\n",
      " 10  form_field10    55645 non-null  float64\n",
      " 11  form_field11    24579 non-null  float64\n",
      " 12  form_field12    46105 non-null  float64\n",
      " 13  form_field13    50111 non-null  float64\n",
      " 14  form_field14    56000 non-null  int64  \n",
      " 15  form_field15    33525 non-null  float64\n",
      " 16  form_field16    42964 non-null  float64\n",
      " 17  form_field17    44849 non-null  float64\n",
      " 18  form_field18    45598 non-null  float64\n",
      " 19  form_field19    55996 non-null  float64\n",
      " 20  form_field20    55645 non-null  float64\n",
      " 21  form_field21    40146 non-null  float64\n",
      " 22  form_field22    35600 non-null  float64\n",
      " 23  form_field23    27877 non-null  float64\n",
      " 24  form_field24    42703 non-null  float64\n",
      " 25  form_field25    50550 non-null  float64\n",
      " 26  form_field26    48562 non-null  float64\n",
      " 27  form_field27    46701 non-null  float64\n",
      " 28  form_field28    55645 non-null  float64\n",
      " 29  form_field29    55645 non-null  float64\n",
      " 30  form_field30    30491 non-null  float64\n",
      " 31  form_field31    16592 non-null  float64\n",
      " 32  form_field32    50550 non-null  float64\n",
      " 33  form_field33    54744 non-null  float64\n",
      " 34  form_field34    55645 non-null  float64\n",
      " 35  form_field35    32852 non-null  float64\n",
      " 36  form_field36    54005 non-null  float64\n",
      " 37  form_field37    50550 non-null  float64\n",
      " 38  form_field38    55645 non-null  float64\n",
      " 39  form_field39    51789 non-null  float64\n",
      " 40  form_field40    12271 non-null  float64\n",
      " 41  form_field41    17771 non-null  float64\n",
      " 42  form_field42    54677 non-null  float64\n",
      " 43  form_field43    55432 non-null  float64\n",
      " 44  form_field44    50617 non-null  float64\n",
      " 45  form_field45    24683 non-null  float64\n",
      " 46  form_field46    40096 non-null  float64\n",
      " 47  form_field47    56000 non-null  object \n",
      " 48  form_field48    35111 non-null  float64\n",
      " 49  form_field49    55645 non-null  float64\n",
      " 50  form_field50    44944 non-null  float64\n",
      " 51  default_status  56000 non-null  object \n",
      "dtypes: float64(48), int64(1), object(3)\n",
      "memory usage: 22.2+ MB\n"
     ]
    }
   ],
   "source": [
    "df_train.info()"
   ]
  },
  {
   "cell_type": "code",
   "execution_count": 4,
   "metadata": {
    "scrolled": false
   },
   "outputs": [
    {
     "data": {
      "text/html": [
       "<div>\n",
       "<style scoped>\n",
       "    .dataframe tbody tr th:only-of-type {\n",
       "        vertical-align: middle;\n",
       "    }\n",
       "\n",
       "    .dataframe tbody tr th {\n",
       "        vertical-align: top;\n",
       "    }\n",
       "\n",
       "    .dataframe thead th {\n",
       "        text-align: right;\n",
       "    }\n",
       "</style>\n",
       "<table border=\"1\" class=\"dataframe\">\n",
       "  <thead>\n",
       "    <tr style=\"text-align: right;\">\n",
       "      <th></th>\n",
       "      <th>form_field1</th>\n",
       "      <th>form_field2</th>\n",
       "      <th>form_field3</th>\n",
       "      <th>form_field4</th>\n",
       "      <th>form_field5</th>\n",
       "      <th>form_field6</th>\n",
       "      <th>form_field7</th>\n",
       "      <th>form_field8</th>\n",
       "      <th>form_field9</th>\n",
       "      <th>form_field10</th>\n",
       "      <th>...</th>\n",
       "      <th>form_field40</th>\n",
       "      <th>form_field41</th>\n",
       "      <th>form_field42</th>\n",
       "      <th>form_field43</th>\n",
       "      <th>form_field44</th>\n",
       "      <th>form_field45</th>\n",
       "      <th>form_field46</th>\n",
       "      <th>form_field48</th>\n",
       "      <th>form_field49</th>\n",
       "      <th>form_field50</th>\n",
       "    </tr>\n",
       "  </thead>\n",
       "  <tbody>\n",
       "    <tr>\n",
       "      <th>count</th>\n",
       "      <td>53471.000000</td>\n",
       "      <td>52156.000000</td>\n",
       "      <td>55645.000000</td>\n",
       "      <td>55645.000000</td>\n",
       "      <td>55645.000000</td>\n",
       "      <td>4.264000e+04</td>\n",
       "      <td>5.083700e+04</td>\n",
       "      <td>4.264000e+04</td>\n",
       "      <td>4.799200e+04</td>\n",
       "      <td>5.564500e+04</td>\n",
       "      <td>...</td>\n",
       "      <td>12271.000000</td>\n",
       "      <td>17771.000000</td>\n",
       "      <td>54677.000000</td>\n",
       "      <td>55432.000000</td>\n",
       "      <td>50617.000000</td>\n",
       "      <td>24683.000000</td>\n",
       "      <td>40096.000000</td>\n",
       "      <td>3.511100e+04</td>\n",
       "      <td>55645.000000</td>\n",
       "      <td>4.494400e+04</td>\n",
       "    </tr>\n",
       "    <tr>\n",
       "      <th>mean</th>\n",
       "      <td>3491.795665</td>\n",
       "      <td>0.550737</td>\n",
       "      <td>1.052225</td>\n",
       "      <td>0.851979</td>\n",
       "      <td>1.956317</td>\n",
       "      <td>6.244479e+05</td>\n",
       "      <td>6.865210e+06</td>\n",
       "      <td>2.626690e+06</td>\n",
       "      <td>1.316002e+07</td>\n",
       "      <td>1.185585e+07</td>\n",
       "      <td>...</td>\n",
       "      <td>147.797977</td>\n",
       "      <td>108.117363</td>\n",
       "      <td>0.368215</td>\n",
       "      <td>6.634511</td>\n",
       "      <td>0.563377</td>\n",
       "      <td>0.072520</td>\n",
       "      <td>0.095371</td>\n",
       "      <td>3.052449e+05</td>\n",
       "      <td>1.049061</td>\n",
       "      <td>6.005862e+05</td>\n",
       "    </tr>\n",
       "    <tr>\n",
       "      <th>std</th>\n",
       "      <td>188.462426</td>\n",
       "      <td>0.820979</td>\n",
       "      <td>2.147768</td>\n",
       "      <td>3.157692</td>\n",
       "      <td>10.512396</td>\n",
       "      <td>1.433422e+06</td>\n",
       "      <td>1.912729e+07</td>\n",
       "      <td>3.927355e+06</td>\n",
       "      <td>1.977963e+07</td>\n",
       "      <td>2.669459e+07</td>\n",
       "      <td>...</td>\n",
       "      <td>45.085889</td>\n",
       "      <td>36.765769</td>\n",
       "      <td>0.412858</td>\n",
       "      <td>6.378946</td>\n",
       "      <td>0.196973</td>\n",
       "      <td>0.291146</td>\n",
       "      <td>0.335210</td>\n",
       "      <td>1.647757e+06</td>\n",
       "      <td>1.806160</td>\n",
       "      <td>5.842405e+06</td>\n",
       "    </tr>\n",
       "    <tr>\n",
       "      <th>min</th>\n",
       "      <td>2990.000000</td>\n",
       "      <td>0.000000</td>\n",
       "      <td>0.000000</td>\n",
       "      <td>0.000000</td>\n",
       "      <td>0.000000</td>\n",
       "      <td>0.000000e+00</td>\n",
       "      <td>0.000000e+00</td>\n",
       "      <td>0.000000e+00</td>\n",
       "      <td>0.000000e+00</td>\n",
       "      <td>0.000000e+00</td>\n",
       "      <td>...</td>\n",
       "      <td>0.021000</td>\n",
       "      <td>0.000000</td>\n",
       "      <td>0.000000</td>\n",
       "      <td>0.000000</td>\n",
       "      <td>0.048528</td>\n",
       "      <td>0.000000</td>\n",
       "      <td>0.000000</td>\n",
       "      <td>0.000000e+00</td>\n",
       "      <td>0.000000</td>\n",
       "      <td>0.000000e+00</td>\n",
       "    </tr>\n",
       "    <tr>\n",
       "      <th>25%</th>\n",
       "      <td>3358.000000</td>\n",
       "      <td>0.070788</td>\n",
       "      <td>0.000000</td>\n",
       "      <td>0.000000</td>\n",
       "      <td>0.000000</td>\n",
       "      <td>1.400400e+04</td>\n",
       "      <td>6.869740e+05</td>\n",
       "      <td>1.929440e+05</td>\n",
       "      <td>1.368502e+06</td>\n",
       "      <td>4.500730e+05</td>\n",
       "      <td>...</td>\n",
       "      <td>136.191750</td>\n",
       "      <td>87.055500</td>\n",
       "      <td>0.000000</td>\n",
       "      <td>2.020000</td>\n",
       "      <td>0.411672</td>\n",
       "      <td>0.000000</td>\n",
       "      <td>0.000000</td>\n",
       "      <td>7.710079e+01</td>\n",
       "      <td>0.000000</td>\n",
       "      <td>4.560141e-02</td>\n",
       "    </tr>\n",
       "    <tr>\n",
       "      <th>50%</th>\n",
       "      <td>3484.000000</td>\n",
       "      <td>0.267575</td>\n",
       "      <td>0.062000</td>\n",
       "      <td>0.000000</td>\n",
       "      <td>0.000000</td>\n",
       "      <td>1.155330e+05</td>\n",
       "      <td>2.704328e+06</td>\n",
       "      <td>9.639420e+05</td>\n",
       "      <td>5.506295e+06</td>\n",
       "      <td>3.707559e+06</td>\n",
       "      <td>...</td>\n",
       "      <td>150.000000</td>\n",
       "      <td>118.441500</td>\n",
       "      <td>0.220000</td>\n",
       "      <td>5.050000</td>\n",
       "      <td>0.588648</td>\n",
       "      <td>0.000000</td>\n",
       "      <td>0.000000</td>\n",
       "      <td>3.181243e+02</td>\n",
       "      <td>0.000000</td>\n",
       "      <td>1.703996e-01</td>\n",
       "    </tr>\n",
       "    <tr>\n",
       "      <th>75%</th>\n",
       "      <td>3620.000000</td>\n",
       "      <td>0.719512</td>\n",
       "      <td>1.282000</td>\n",
       "      <td>0.000000</td>\n",
       "      <td>0.000000</td>\n",
       "      <td>5.259280e+05</td>\n",
       "      <td>6.993831e+06</td>\n",
       "      <td>3.751516e+06</td>\n",
       "      <td>1.694552e+07</td>\n",
       "      <td>1.326101e+07</td>\n",
       "      <td>...</td>\n",
       "      <td>167.754000</td>\n",
       "      <td>137.496750</td>\n",
       "      <td>0.628573</td>\n",
       "      <td>10.100000</td>\n",
       "      <td>0.753840</td>\n",
       "      <td>0.000000</td>\n",
       "      <td>0.000000</td>\n",
       "      <td>1.153022e+03</td>\n",
       "      <td>1.181754</td>\n",
       "      <td>4.993370e-01</td>\n",
       "    </tr>\n",
       "    <tr>\n",
       "      <th>max</th>\n",
       "      <td>3900.000000</td>\n",
       "      <td>18.015050</td>\n",
       "      <td>57.371600</td>\n",
       "      <td>91.672200</td>\n",
       "      <td>407.748600</td>\n",
       "      <td>5.313546e+07</td>\n",
       "      <td>2.158794e+09</td>\n",
       "      <td>1.037397e+08</td>\n",
       "      <td>3.200533e+08</td>\n",
       "      <td>2.191361e+09</td>\n",
       "      <td>...</td>\n",
       "      <td>645.450000</td>\n",
       "      <td>255.000000</td>\n",
       "      <td>2.200000</td>\n",
       "      <td>91.910000</td>\n",
       "      <td>0.800000</td>\n",
       "      <td>5.000000</td>\n",
       "      <td>5.000000</td>\n",
       "      <td>5.321014e+07</td>\n",
       "      <td>28.000000</td>\n",
       "      <td>2.307571e+08</td>\n",
       "    </tr>\n",
       "  </tbody>\n",
       "</table>\n",
       "<p>8 rows × 49 columns</p>\n",
       "</div>"
      ],
      "text/plain": [
       "        form_field1   form_field2   form_field3   form_field4   form_field5  \\\n",
       "count  53471.000000  52156.000000  55645.000000  55645.000000  55645.000000   \n",
       "mean    3491.795665      0.550737      1.052225      0.851979      1.956317   \n",
       "std      188.462426      0.820979      2.147768      3.157692     10.512396   \n",
       "min     2990.000000      0.000000      0.000000      0.000000      0.000000   \n",
       "25%     3358.000000      0.070788      0.000000      0.000000      0.000000   \n",
       "50%     3484.000000      0.267575      0.062000      0.000000      0.000000   \n",
       "75%     3620.000000      0.719512      1.282000      0.000000      0.000000   \n",
       "max     3900.000000     18.015050     57.371600     91.672200    407.748600   \n",
       "\n",
       "        form_field6   form_field7   form_field8   form_field9  form_field10  \\\n",
       "count  4.264000e+04  5.083700e+04  4.264000e+04  4.799200e+04  5.564500e+04   \n",
       "mean   6.244479e+05  6.865210e+06  2.626690e+06  1.316002e+07  1.185585e+07   \n",
       "std    1.433422e+06  1.912729e+07  3.927355e+06  1.977963e+07  2.669459e+07   \n",
       "min    0.000000e+00  0.000000e+00  0.000000e+00  0.000000e+00  0.000000e+00   \n",
       "25%    1.400400e+04  6.869740e+05  1.929440e+05  1.368502e+06  4.500730e+05   \n",
       "50%    1.155330e+05  2.704328e+06  9.639420e+05  5.506295e+06  3.707559e+06   \n",
       "75%    5.259280e+05  6.993831e+06  3.751516e+06  1.694552e+07  1.326101e+07   \n",
       "max    5.313546e+07  2.158794e+09  1.037397e+08  3.200533e+08  2.191361e+09   \n",
       "\n",
       "       ...  form_field40  form_field41  form_field42  form_field43  \\\n",
       "count  ...  12271.000000  17771.000000  54677.000000  55432.000000   \n",
       "mean   ...    147.797977    108.117363      0.368215      6.634511   \n",
       "std    ...     45.085889     36.765769      0.412858      6.378946   \n",
       "min    ...      0.021000      0.000000      0.000000      0.000000   \n",
       "25%    ...    136.191750     87.055500      0.000000      2.020000   \n",
       "50%    ...    150.000000    118.441500      0.220000      5.050000   \n",
       "75%    ...    167.754000    137.496750      0.628573     10.100000   \n",
       "max    ...    645.450000    255.000000      2.200000     91.910000   \n",
       "\n",
       "       form_field44  form_field45  form_field46  form_field48  form_field49  \\\n",
       "count  50617.000000  24683.000000  40096.000000  3.511100e+04  55645.000000   \n",
       "mean       0.563377      0.072520      0.095371  3.052449e+05      1.049061   \n",
       "std        0.196973      0.291146      0.335210  1.647757e+06      1.806160   \n",
       "min        0.048528      0.000000      0.000000  0.000000e+00      0.000000   \n",
       "25%        0.411672      0.000000      0.000000  7.710079e+01      0.000000   \n",
       "50%        0.588648      0.000000      0.000000  3.181243e+02      0.000000   \n",
       "75%        0.753840      0.000000      0.000000  1.153022e+03      1.181754   \n",
       "max        0.800000      5.000000      5.000000  5.321014e+07     28.000000   \n",
       "\n",
       "       form_field50  \n",
       "count  4.494400e+04  \n",
       "mean   6.005862e+05  \n",
       "std    5.842405e+06  \n",
       "min    0.000000e+00  \n",
       "25%    4.560141e-02  \n",
       "50%    1.703996e-01  \n",
       "75%    4.993370e-01  \n",
       "max    2.307571e+08  \n",
       "\n",
       "[8 rows x 49 columns]"
      ]
     },
     "execution_count": 4,
     "metadata": {},
     "output_type": "execute_result"
    }
   ],
   "source": [
    "#since they are all numeric values, fillng based on another feature is not logical\n",
    "df_train.describe()"
   ]
  },
  {
   "cell_type": "code",
   "execution_count": 14,
   "metadata": {},
   "outputs": [
    {
     "data": {
      "image/png": "[encoded data removed]",
      "text/plain": [
       "<Figure size 432x288 with 1 Axes>"
      ]
     },
     "metadata": {
      "needs_background": "light"
     },
     "output_type": "display_data"
    }
   ],
   "source": [
    "#sns.set_theme(style = \"darkgrid\")\n",
    "ax = sns.countplot(x=\"default_status\", data = df_train)"
   ]
  },
  {
   "cell_type": "code",
   "execution_count": 18,
   "metadata": {},
   "outputs": [
    {
     "name": "stdout",
     "output_type": "stream",
     "text": [
      "0.7.0\n"
     ]
    }
   ],
   "source": [
    "#lets balance the dataset using smote(synthetic minority oversampling technique)\n",
    "import imblearn\n",
    "print(imblearn.__version__)"
   ]
  },
  {
   "cell_type": "code",
   "execution_count": 19,
   "metadata": {},
   "outputs": [],
   "source": [
    "#lets get the numerical columns, because of time, we will be filling each of the nan values with the mean of each column\n",
    "numerical_features = df_train.select_dtypes(include = [np.number])\n",
    "numerical_list =  numerical_features.columns.tolist()\n",
    "numerical_features_test = df_test.select_dtypes(include = [np.number])\n",
    "numerical_list_test =  numerical_features_test.columns.tolist()"
   ]
  },
  {
   "cell_type": "code",
   "execution_count": 20,
   "metadata": {},
   "outputs": [],
   "source": [
    "categorical_features = df_train.select_dtypes(include = ['object'])\n",
    "categorical_list = categorical_features.columns.tolist()\n",
    "categorical_features_test = df_test.select_dtypes(include = ['object'])\n",
    "categorical_list_test = categorical_features.columns.tolist()"
   ]
  },
  {
   "cell_type": "code",
   "execution_count": 6,
   "metadata": {},
   "outputs": [],
   "source": [
    "#missing values\n",
    "def missing_values(dataframe):\n",
    "    \"\"\"\n",
    "    This function takes a dataframe as input and returns two columns... total missing values and their percentage\n",
    "    \"\"\"\n",
    "    total = dataframe.isnull().sum().sort_values(ascending = False)\n",
    "    percent = round(total/len(dataframe)*100, 2)\n",
    "    return pd.concat([total, percent], axis = 1, keys = ['Total Missing', '%Percentage'])"
   ]
  },
  {
   "cell_type": "code",
   "execution_count": 7,
   "metadata": {},
   "outputs": [
    {
     "data": {
      "text/html": [
       "<div>\n",
       "<style scoped>\n",
       "    .dataframe tbody tr th:only-of-type {\n",
       "        vertical-align: middle;\n",
       "    }\n",
       "\n",
       "    .dataframe tbody tr th {\n",
       "        vertical-align: top;\n",
       "    }\n",
       "\n",
       "    .dataframe thead th {\n",
       "        text-align: right;\n",
       "    }\n",
       "</style>\n",
       "<table border=\"1\" class=\"dataframe\">\n",
       "  <thead>\n",
       "    <tr style=\"text-align: right;\">\n",
       "      <th></th>\n",
       "      <th>Total Missing</th>\n",
       "      <th>%Percentage</th>\n",
       "    </tr>\n",
       "  </thead>\n",
       "  <tbody>\n",
       "    <tr>\n",
       "      <th>form_field40</th>\n",
       "      <td>43729</td>\n",
       "      <td>78.09</td>\n",
       "    </tr>\n",
       "    <tr>\n",
       "      <th>form_field31</th>\n",
       "      <td>39408</td>\n",
       "      <td>70.37</td>\n",
       "    </tr>\n",
       "    <tr>\n",
       "      <th>form_field41</th>\n",
       "      <td>38229</td>\n",
       "      <td>68.27</td>\n",
       "    </tr>\n",
       "    <tr>\n",
       "      <th>form_field11</th>\n",
       "      <td>31421</td>\n",
       "      <td>56.11</td>\n",
       "    </tr>\n",
       "    <tr>\n",
       "      <th>form_field45</th>\n",
       "      <td>31317</td>\n",
       "      <td>55.92</td>\n",
       "    </tr>\n",
       "    <tr>\n",
       "      <th>form_field23</th>\n",
       "      <td>28123</td>\n",
       "      <td>50.22</td>\n",
       "    </tr>\n",
       "    <tr>\n",
       "      <th>form_field30</th>\n",
       "      <td>25509</td>\n",
       "      <td>45.55</td>\n",
       "    </tr>\n",
       "    <tr>\n",
       "      <th>form_field35</th>\n",
       "      <td>23148</td>\n",
       "      <td>41.34</td>\n",
       "    </tr>\n",
       "    <tr>\n",
       "      <th>form_field15</th>\n",
       "      <td>22475</td>\n",
       "      <td>40.13</td>\n",
       "    </tr>\n",
       "    <tr>\n",
       "      <th>form_field48</th>\n",
       "      <td>20889</td>\n",
       "      <td>37.30</td>\n",
       "    </tr>\n",
       "    <tr>\n",
       "      <th>form_field22</th>\n",
       "      <td>20400</td>\n",
       "      <td>36.43</td>\n",
       "    </tr>\n",
       "    <tr>\n",
       "      <th>form_field46</th>\n",
       "      <td>15904</td>\n",
       "      <td>28.40</td>\n",
       "    </tr>\n",
       "    <tr>\n",
       "      <th>form_field21</th>\n",
       "      <td>15854</td>\n",
       "      <td>28.31</td>\n",
       "    </tr>\n",
       "    <tr>\n",
       "      <th>form_field6</th>\n",
       "      <td>13360</td>\n",
       "      <td>23.86</td>\n",
       "    </tr>\n",
       "    <tr>\n",
       "      <th>form_field8</th>\n",
       "      <td>13360</td>\n",
       "      <td>23.86</td>\n",
       "    </tr>\n",
       "    <tr>\n",
       "      <th>form_field24</th>\n",
       "      <td>13297</td>\n",
       "      <td>23.74</td>\n",
       "    </tr>\n",
       "    <tr>\n",
       "      <th>form_field16</th>\n",
       "      <td>13036</td>\n",
       "      <td>23.28</td>\n",
       "    </tr>\n",
       "    <tr>\n",
       "      <th>form_field17</th>\n",
       "      <td>11151</td>\n",
       "      <td>19.91</td>\n",
       "    </tr>\n",
       "    <tr>\n",
       "      <th>form_field50</th>\n",
       "      <td>11056</td>\n",
       "      <td>19.74</td>\n",
       "    </tr>\n",
       "    <tr>\n",
       "      <th>form_field18</th>\n",
       "      <td>10402</td>\n",
       "      <td>18.58</td>\n",
       "    </tr>\n",
       "    <tr>\n",
       "      <th>form_field12</th>\n",
       "      <td>9895</td>\n",
       "      <td>17.67</td>\n",
       "    </tr>\n",
       "    <tr>\n",
       "      <th>form_field27</th>\n",
       "      <td>9299</td>\n",
       "      <td>16.61</td>\n",
       "    </tr>\n",
       "    <tr>\n",
       "      <th>form_field9</th>\n",
       "      <td>8008</td>\n",
       "      <td>14.30</td>\n",
       "    </tr>\n",
       "    <tr>\n",
       "      <th>form_field26</th>\n",
       "      <td>7438</td>\n",
       "      <td>13.28</td>\n",
       "    </tr>\n",
       "    <tr>\n",
       "      <th>form_field13</th>\n",
       "      <td>5889</td>\n",
       "      <td>10.52</td>\n",
       "    </tr>\n",
       "    <tr>\n",
       "      <th>form_field25</th>\n",
       "      <td>5450</td>\n",
       "      <td>9.73</td>\n",
       "    </tr>\n",
       "    <tr>\n",
       "      <th>form_field32</th>\n",
       "      <td>5450</td>\n",
       "      <td>9.73</td>\n",
       "    </tr>\n",
       "    <tr>\n",
       "      <th>form_field37</th>\n",
       "      <td>5450</td>\n",
       "      <td>9.73</td>\n",
       "    </tr>\n",
       "    <tr>\n",
       "      <th>form_field44</th>\n",
       "      <td>5383</td>\n",
       "      <td>9.61</td>\n",
       "    </tr>\n",
       "    <tr>\n",
       "      <th>form_field7</th>\n",
       "      <td>5163</td>\n",
       "      <td>9.22</td>\n",
       "    </tr>\n",
       "    <tr>\n",
       "      <th>form_field39</th>\n",
       "      <td>4211</td>\n",
       "      <td>7.52</td>\n",
       "    </tr>\n",
       "    <tr>\n",
       "      <th>form_field2</th>\n",
       "      <td>3844</td>\n",
       "      <td>6.86</td>\n",
       "    </tr>\n",
       "    <tr>\n",
       "      <th>form_field1</th>\n",
       "      <td>2529</td>\n",
       "      <td>4.52</td>\n",
       "    </tr>\n",
       "    <tr>\n",
       "      <th>form_field36</th>\n",
       "      <td>1995</td>\n",
       "      <td>3.56</td>\n",
       "    </tr>\n",
       "    <tr>\n",
       "      <th>form_field42</th>\n",
       "      <td>1323</td>\n",
       "      <td>2.36</td>\n",
       "    </tr>\n",
       "    <tr>\n",
       "      <th>form_field33</th>\n",
       "      <td>1256</td>\n",
       "      <td>2.24</td>\n",
       "    </tr>\n",
       "    <tr>\n",
       "      <th>form_field43</th>\n",
       "      <td>568</td>\n",
       "      <td>1.01</td>\n",
       "    </tr>\n",
       "    <tr>\n",
       "      <th>form_field5</th>\n",
       "      <td>355</td>\n",
       "      <td>0.63</td>\n",
       "    </tr>\n",
       "    <tr>\n",
       "      <th>form_field49</th>\n",
       "      <td>355</td>\n",
       "      <td>0.63</td>\n",
       "    </tr>\n",
       "    <tr>\n",
       "      <th>form_field10</th>\n",
       "      <td>355</td>\n",
       "      <td>0.63</td>\n",
       "    </tr>\n",
       "    <tr>\n",
       "      <th>form_field3</th>\n",
       "      <td>355</td>\n",
       "      <td>0.63</td>\n",
       "    </tr>\n",
       "    <tr>\n",
       "      <th>form_field28</th>\n",
       "      <td>355</td>\n",
       "      <td>0.63</td>\n",
       "    </tr>\n",
       "    <tr>\n",
       "      <th>form_field38</th>\n",
       "      <td>355</td>\n",
       "      <td>0.63</td>\n",
       "    </tr>\n",
       "    <tr>\n",
       "      <th>form_field34</th>\n",
       "      <td>355</td>\n",
       "      <td>0.63</td>\n",
       "    </tr>\n",
       "    <tr>\n",
       "      <th>form_field20</th>\n",
       "      <td>355</td>\n",
       "      <td>0.63</td>\n",
       "    </tr>\n",
       "    <tr>\n",
       "      <th>form_field29</th>\n",
       "      <td>355</td>\n",
       "      <td>0.63</td>\n",
       "    </tr>\n",
       "    <tr>\n",
       "      <th>form_field4</th>\n",
       "      <td>355</td>\n",
       "      <td>0.63</td>\n",
       "    </tr>\n",
       "    <tr>\n",
       "      <th>form_field19</th>\n",
       "      <td>4</td>\n",
       "      <td>0.01</td>\n",
       "    </tr>\n",
       "    <tr>\n",
       "      <th>default_status</th>\n",
       "      <td>0</td>\n",
       "      <td>0.00</td>\n",
       "    </tr>\n",
       "    <tr>\n",
       "      <th>form_field14</th>\n",
       "      <td>0</td>\n",
       "      <td>0.00</td>\n",
       "    </tr>\n",
       "    <tr>\n",
       "      <th>form_field47</th>\n",
       "      <td>0</td>\n",
       "      <td>0.00</td>\n",
       "    </tr>\n",
       "    <tr>\n",
       "      <th>Applicant_ID</th>\n",
       "      <td>0</td>\n",
       "      <td>0.00</td>\n",
       "    </tr>\n",
       "  </tbody>\n",
       "</table>\n",
       "</div>"
      ],
      "text/plain": [
       "                Total Missing  %Percentage\n",
       "form_field40            43729        78.09\n",
       "form_field31            39408        70.37\n",
       "form_field41            38229        68.27\n",
       "form_field11            31421        56.11\n",
       "form_field45            31317        55.92\n",
       "form_field23            28123        50.22\n",
       "form_field30            25509        45.55\n",
       "form_field35            23148        41.34\n",
       "form_field15            22475        40.13\n",
       "form_field48            20889        37.30\n",
       "form_field22            20400        36.43\n",
       "form_field46            15904        28.40\n",
       "form_field21            15854        28.31\n",
       "form_field6             13360        23.86\n",
       "form_field8             13360        23.86\n",
       "form_field24            13297        23.74\n",
       "form_field16            13036        23.28\n",
       "form_field17            11151        19.91\n",
       "form_field50            11056        19.74\n",
       "form_field18            10402        18.58\n",
       "form_field12             9895        17.67\n",
       "form_field27             9299        16.61\n",
       "form_field9              8008        14.30\n",
       "form_field26             7438        13.28\n",
       "form_field13             5889        10.52\n",
       "form_field25             5450         9.73\n",
       "form_field32             5450         9.73\n",
       "form_field37             5450         9.73\n",
       "form_field44             5383         9.61\n",
       "form_field7              5163         9.22\n",
       "form_field39             4211         7.52\n",
       "form_field2              3844         6.86\n",
       "form_field1              2529         4.52\n",
       "form_field36             1995         3.56\n",
       "form_field42             1323         2.36\n",
       "form_field33             1256         2.24\n",
       "form_field43              568         1.01\n",
       "form_field5               355         0.63\n",
       "form_field49              355         0.63\n",
       "form_field10              355         0.63\n",
       "form_field3               355         0.63\n",
       "form_field28              355         0.63\n",
       "form_field38              355         0.63\n",
       "form_field34              355         0.63\n",
       "form_field20              355         0.63\n",
       "form_field29              355         0.63\n",
       "form_field4               355         0.63\n",
       "form_field19                4         0.01\n",
       "default_status              0         0.00\n",
       "form_field14                0         0.00\n",
       "form_field47                0         0.00\n",
       "Applicant_ID                0         0.00"
      ]
     },
     "execution_count": 7,
     "metadata": {},
     "output_type": "execute_result"
    }
   ],
   "source": [
    "missing_values(df_train)"
   ]
  },
  {
   "cell_type": "code",
   "execution_count": 8,
   "metadata": {},
   "outputs": [
    {
     "data": {
      "text/html": [
       "<div>\n",
       "<style scoped>\n",
       "    .dataframe tbody tr th:only-of-type {\n",
       "        vertical-align: middle;\n",
       "    }\n",
       "\n",
       "    .dataframe tbody tr th {\n",
       "        vertical-align: top;\n",
       "    }\n",
       "\n",
       "    .dataframe thead th {\n",
       "        text-align: right;\n",
       "    }\n",
       "</style>\n",
       "<table border=\"1\" class=\"dataframe\">\n",
       "  <thead>\n",
       "    <tr style=\"text-align: right;\">\n",
       "      <th></th>\n",
       "      <th>Total Missing</th>\n",
       "      <th>%Percentage</th>\n",
       "    </tr>\n",
       "  </thead>\n",
       "  <tbody>\n",
       "    <tr>\n",
       "      <th>form_field40</th>\n",
       "      <td>18828</td>\n",
       "      <td>78.45</td>\n",
       "    </tr>\n",
       "    <tr>\n",
       "      <th>form_field31</th>\n",
       "      <td>16810</td>\n",
       "      <td>70.04</td>\n",
       "    </tr>\n",
       "    <tr>\n",
       "      <th>form_field41</th>\n",
       "      <td>16349</td>\n",
       "      <td>68.12</td>\n",
       "    </tr>\n",
       "    <tr>\n",
       "      <th>form_field45</th>\n",
       "      <td>13538</td>\n",
       "      <td>56.41</td>\n",
       "    </tr>\n",
       "    <tr>\n",
       "      <th>form_field11</th>\n",
       "      <td>13398</td>\n",
       "      <td>55.82</td>\n",
       "    </tr>\n",
       "    <tr>\n",
       "      <th>form_field23</th>\n",
       "      <td>12125</td>\n",
       "      <td>50.52</td>\n",
       "    </tr>\n",
       "    <tr>\n",
       "      <th>form_field30</th>\n",
       "      <td>10908</td>\n",
       "      <td>45.45</td>\n",
       "    </tr>\n",
       "    <tr>\n",
       "      <th>form_field35</th>\n",
       "      <td>9866</td>\n",
       "      <td>41.11</td>\n",
       "    </tr>\n",
       "    <tr>\n",
       "      <th>form_field15</th>\n",
       "      <td>9592</td>\n",
       "      <td>39.97</td>\n",
       "    </tr>\n",
       "    <tr>\n",
       "      <th>form_field48</th>\n",
       "      <td>8922</td>\n",
       "      <td>37.18</td>\n",
       "    </tr>\n",
       "    <tr>\n",
       "      <th>form_field22</th>\n",
       "      <td>8724</td>\n",
       "      <td>36.35</td>\n",
       "    </tr>\n",
       "    <tr>\n",
       "      <th>form_field46</th>\n",
       "      <td>6885</td>\n",
       "      <td>28.69</td>\n",
       "    </tr>\n",
       "    <tr>\n",
       "      <th>form_field21</th>\n",
       "      <td>6707</td>\n",
       "      <td>27.95</td>\n",
       "    </tr>\n",
       "    <tr>\n",
       "      <th>form_field24</th>\n",
       "      <td>5605</td>\n",
       "      <td>23.35</td>\n",
       "    </tr>\n",
       "    <tr>\n",
       "      <th>form_field8</th>\n",
       "      <td>5604</td>\n",
       "      <td>23.35</td>\n",
       "    </tr>\n",
       "    <tr>\n",
       "      <th>form_field6</th>\n",
       "      <td>5604</td>\n",
       "      <td>23.35</td>\n",
       "    </tr>\n",
       "    <tr>\n",
       "      <th>form_field16</th>\n",
       "      <td>5474</td>\n",
       "      <td>22.81</td>\n",
       "    </tr>\n",
       "    <tr>\n",
       "      <th>form_field50</th>\n",
       "      <td>4797</td>\n",
       "      <td>19.99</td>\n",
       "    </tr>\n",
       "    <tr>\n",
       "      <th>form_field17</th>\n",
       "      <td>4695</td>\n",
       "      <td>19.56</td>\n",
       "    </tr>\n",
       "    <tr>\n",
       "      <th>form_field18</th>\n",
       "      <td>4369</td>\n",
       "      <td>18.20</td>\n",
       "    </tr>\n",
       "    <tr>\n",
       "      <th>form_field12</th>\n",
       "      <td>4183</td>\n",
       "      <td>17.43</td>\n",
       "    </tr>\n",
       "    <tr>\n",
       "      <th>form_field27</th>\n",
       "      <td>3910</td>\n",
       "      <td>16.29</td>\n",
       "    </tr>\n",
       "    <tr>\n",
       "      <th>form_field9</th>\n",
       "      <td>3400</td>\n",
       "      <td>14.17</td>\n",
       "    </tr>\n",
       "    <tr>\n",
       "      <th>form_field26</th>\n",
       "      <td>3172</td>\n",
       "      <td>13.22</td>\n",
       "    </tr>\n",
       "    <tr>\n",
       "      <th>form_field13</th>\n",
       "      <td>2463</td>\n",
       "      <td>10.26</td>\n",
       "    </tr>\n",
       "    <tr>\n",
       "      <th>form_field44</th>\n",
       "      <td>2362</td>\n",
       "      <td>9.84</td>\n",
       "    </tr>\n",
       "    <tr>\n",
       "      <th>form_field25</th>\n",
       "      <td>2256</td>\n",
       "      <td>9.40</td>\n",
       "    </tr>\n",
       "    <tr>\n",
       "      <th>form_field32</th>\n",
       "      <td>2256</td>\n",
       "      <td>9.40</td>\n",
       "    </tr>\n",
       "    <tr>\n",
       "      <th>form_field37</th>\n",
       "      <td>2256</td>\n",
       "      <td>9.40</td>\n",
       "    </tr>\n",
       "    <tr>\n",
       "      <th>form_field7</th>\n",
       "      <td>2231</td>\n",
       "      <td>9.30</td>\n",
       "    </tr>\n",
       "    <tr>\n",
       "      <th>form_field39</th>\n",
       "      <td>1829</td>\n",
       "      <td>7.62</td>\n",
       "    </tr>\n",
       "    <tr>\n",
       "      <th>form_field2</th>\n",
       "      <td>1709</td>\n",
       "      <td>7.12</td>\n",
       "    </tr>\n",
       "    <tr>\n",
       "      <th>form_field1</th>\n",
       "      <td>1110</td>\n",
       "      <td>4.62</td>\n",
       "    </tr>\n",
       "    <tr>\n",
       "      <th>form_field36</th>\n",
       "      <td>903</td>\n",
       "      <td>3.76</td>\n",
       "    </tr>\n",
       "    <tr>\n",
       "      <th>form_field42</th>\n",
       "      <td>578</td>\n",
       "      <td>2.41</td>\n",
       "    </tr>\n",
       "    <tr>\n",
       "      <th>form_field33</th>\n",
       "      <td>495</td>\n",
       "      <td>2.06</td>\n",
       "    </tr>\n",
       "    <tr>\n",
       "      <th>form_field43</th>\n",
       "      <td>250</td>\n",
       "      <td>1.04</td>\n",
       "    </tr>\n",
       "    <tr>\n",
       "      <th>form_field34</th>\n",
       "      <td>147</td>\n",
       "      <td>0.61</td>\n",
       "    </tr>\n",
       "    <tr>\n",
       "      <th>form_field20</th>\n",
       "      <td>147</td>\n",
       "      <td>0.61</td>\n",
       "    </tr>\n",
       "    <tr>\n",
       "      <th>form_field38</th>\n",
       "      <td>147</td>\n",
       "      <td>0.61</td>\n",
       "    </tr>\n",
       "    <tr>\n",
       "      <th>form_field28</th>\n",
       "      <td>147</td>\n",
       "      <td>0.61</td>\n",
       "    </tr>\n",
       "    <tr>\n",
       "      <th>form_field10</th>\n",
       "      <td>147</td>\n",
       "      <td>0.61</td>\n",
       "    </tr>\n",
       "    <tr>\n",
       "      <th>form_field29</th>\n",
       "      <td>147</td>\n",
       "      <td>0.61</td>\n",
       "    </tr>\n",
       "    <tr>\n",
       "      <th>form_field4</th>\n",
       "      <td>146</td>\n",
       "      <td>0.61</td>\n",
       "    </tr>\n",
       "    <tr>\n",
       "      <th>form_field3</th>\n",
       "      <td>146</td>\n",
       "      <td>0.61</td>\n",
       "    </tr>\n",
       "    <tr>\n",
       "      <th>form_field49</th>\n",
       "      <td>146</td>\n",
       "      <td>0.61</td>\n",
       "    </tr>\n",
       "    <tr>\n",
       "      <th>form_field5</th>\n",
       "      <td>146</td>\n",
       "      <td>0.61</td>\n",
       "    </tr>\n",
       "    <tr>\n",
       "      <th>form_field47</th>\n",
       "      <td>0</td>\n",
       "      <td>0.00</td>\n",
       "    </tr>\n",
       "    <tr>\n",
       "      <th>form_field14</th>\n",
       "      <td>0</td>\n",
       "      <td>0.00</td>\n",
       "    </tr>\n",
       "    <tr>\n",
       "      <th>form_field19</th>\n",
       "      <td>0</td>\n",
       "      <td>0.00</td>\n",
       "    </tr>\n",
       "    <tr>\n",
       "      <th>Applicant_ID</th>\n",
       "      <td>0</td>\n",
       "      <td>0.00</td>\n",
       "    </tr>\n",
       "  </tbody>\n",
       "</table>\n",
       "</div>"
      ],
      "text/plain": [
       "              Total Missing  %Percentage\n",
       "form_field40          18828        78.45\n",
       "form_field31          16810        70.04\n",
       "form_field41          16349        68.12\n",
       "form_field45          13538        56.41\n",
       "form_field11          13398        55.82\n",
       "form_field23          12125        50.52\n",
       "form_field30          10908        45.45\n",
       "form_field35           9866        41.11\n",
       "form_field15           9592        39.97\n",
       "form_field48           8922        37.18\n",
       "form_field22           8724        36.35\n",
       "form_field46           6885        28.69\n",
       "form_field21           6707        27.95\n",
       "form_field24           5605        23.35\n",
       "form_field8            5604        23.35\n",
       "form_field6            5604        23.35\n",
       "form_field16           5474        22.81\n",
       "form_field50           4797        19.99\n",
       "form_field17           4695        19.56\n",
       "form_field18           4369        18.20\n",
       "form_field12           4183        17.43\n",
       "form_field27           3910        16.29\n",
       "form_field9            3400        14.17\n",
       "form_field26           3172        13.22\n",
       "form_field13           2463        10.26\n",
       "form_field44           2362         9.84\n",
       "form_field25           2256         9.40\n",
       "form_field32           2256         9.40\n",
       "form_field37           2256         9.40\n",
       "form_field7            2231         9.30\n",
       "form_field39           1829         7.62\n",
       "form_field2            1709         7.12\n",
       "form_field1            1110         4.62\n",
       "form_field36            903         3.76\n",
       "form_field42            578         2.41\n",
       "form_field33            495         2.06\n",
       "form_field43            250         1.04\n",
       "form_field34            147         0.61\n",
       "form_field20            147         0.61\n",
       "form_field38            147         0.61\n",
       "form_field28            147         0.61\n",
       "form_field10            147         0.61\n",
       "form_field29            147         0.61\n",
       "form_field4             146         0.61\n",
       "form_field3             146         0.61\n",
       "form_field49            146         0.61\n",
       "form_field5             146         0.61\n",
       "form_field47              0         0.00\n",
       "form_field14              0         0.00\n",
       "form_field19              0         0.00\n",
       "Applicant_ID              0         0.00"
      ]
     },
     "execution_count": 8,
     "metadata": {},
     "output_type": "execute_result"
    }
   ],
   "source": [
    "missing_values(df_test)"
   ]
  },
  {
   "cell_type": "code",
   "execution_count": 13,
   "metadata": {
    "scrolled": true
   },
   "outputs": [
    {
     "data": {
      "text/plain": [
       "0        NaN\n",
       "1        NaN\n",
       "2    14508.0\n",
       "3        NaN\n",
       "4     5202.0\n",
       "5        NaN\n",
       "6    13413.0\n",
       "7        NaN\n",
       "8        NaN\n",
       "9      273.0\n",
       "Name: form_field31, dtype: float64"
      ]
     },
     "execution_count": 13,
     "metadata": {},
     "output_type": "execute_result"
    }
   ],
   "source": [
    "df_train['form_field31'].head(10)"
   ]
  },
  {
   "cell_type": "code",
   "execution_count": 21,
   "metadata": {},
   "outputs": [],
   "source": [
    "mean_train = df_train.filter(numerical_list).mean()"
   ]
  },
  {
   "cell_type": "code",
   "execution_count": 22,
   "metadata": {},
   "outputs": [],
   "source": [
    "#filling with mean of the respective columns\n",
    "df_train[numerical_list] = df_train.filter(numerical_list).fillna(mean_train)#if we needed mode, we would have mode.iloc[0]"
   ]
  },
  {
   "cell_type": "code",
   "execution_count": 23,
   "metadata": {},
   "outputs": [],
   "source": [
    "#now lets fill the test data with the mean_train so as to avoid the model from peeking into our test data\n",
    "df_test[numerical_list_test] = df_test.filter(numerical_list_test).fillna(mean_train)"
   ]
  },
  {
   "cell_type": "code",
   "execution_count": 21,
   "metadata": {},
   "outputs": [
    {
     "data": {
      "text/plain": [
       "2"
      ]
     },
     "execution_count": 21,
     "metadata": {},
     "output_type": "execute_result"
    }
   ],
   "source": [
    "df_train['form_field47'].nunique()"
   ]
  },
  {
   "cell_type": "code",
   "execution_count": 22,
   "metadata": {
    "scrolled": true
   },
   "outputs": [
    {
     "data": {
      "text/plain": [
       "2"
      ]
     },
     "execution_count": 22,
     "metadata": {},
     "output_type": "execute_result"
    }
   ],
   "source": [
    "df_test['form_field47'].nunique()#two categories for the only categorical column... we be using one_hot encoding"
   ]
  },
  {
   "cell_type": "code",
   "execution_count": 24,
   "metadata": {
    "scrolled": true
   },
   "outputs": [
    {
     "data": {
      "text/plain": [
       "0    0\n",
       "1    0\n",
       "2    1\n",
       "3    0\n",
       "4    0\n",
       "Name: default_status, dtype: int64"
      ]
     },
     "execution_count": 24,
     "metadata": {},
     "output_type": "execute_result"
    }
   ],
   "source": [
    "#from sklearn.preprocessing import LabelEncoder\n",
    "#we want to make the target class numbers\n",
    "df_label = {\"default_status\": {\"yes\":1, \"no\":0}}\n",
    "df_train.replace(df_label, inplace= True)\n",
    "df_train[\"default_status\"].head()"
   ]
  },
  {
   "cell_type": "code",
   "execution_count": 25,
   "metadata": {},
   "outputs": [],
   "source": [
    "X = df_train.drop([\"Applicant_ID\", \"default_status\"], axis =1)\n",
    "y = df_train[\"default_status\"]\n",
    "\n",
    "X_test = df_test.drop([\"Applicant_ID\"], axis = 1)"
   ]
  },
  {
   "cell_type": "code",
   "execution_count": 26,
   "metadata": {},
   "outputs": [],
   "source": [
    "#one-hot-encoding\n",
    "\n",
    "X_train = pd.get_dummies(X)\n",
    "X_test = pd.get_dummies(X_test)"
   ]
  },
  {
   "cell_type": "code",
   "execution_count": 84,
   "metadata": {},
   "outputs": [],
   "source": [
    "#since we have noticed an imbalance in the dataset, lets apply SMOTE to balance\n",
    "from imblearn.over_sampling import SMOTE\n",
    "from imblearn.under_sampling import RandomUnderSampler\n",
    "from imblearn.pipeline import Pipeline\n",
    "\n",
    "over = SMOTE(sampling_strategy = 0.8)#increasing this by o.5 of the majority class\n",
    "#under = RandomUnderSampler(sampling_strategy = 0.4)\n",
    "steps = [('o', over)]\n",
    "pipeline = Pipeline(steps = steps)\n",
    "X_smote, y_smote = pipeline.fit_resample(X_train, y)"
   ]
  },
  {
   "cell_type": "code",
   "execution_count": 85,
   "metadata": {},
   "outputs": [
    {
     "data": {
      "text/plain": [
       "0    42285\n",
       "1    33828\n",
       "Name: default_status, dtype: int64"
      ]
     },
     "execution_count": 85,
     "metadata": {},
     "output_type": "execute_result"
    }
   ],
   "source": [
    "y_smote.value_counts()"
   ]
  },
  {
   "cell_type": "code",
   "execution_count": 34,
   "metadata": {},
   "outputs": [
    {
     "data": {
      "text/plain": [
       "0    42285\n",
       "1    13715\n",
       "Name: default_status, dtype: int64"
      ]
     },
     "execution_count": 34,
     "metadata": {},
     "output_type": "execute_result"
    }
   ],
   "source": [
    "y.value_counts()"
   ]
  },
  {
   "cell_type": "code",
   "execution_count": 86,
   "metadata": {},
   "outputs": [],
   "source": [
    "from sklearn.linear_model import LogisticRegression\n",
    "from sklearn.model_selection import train_test_split\n",
    "X_train_smote, X_val_smote, y_train_smote, y_val_smote = train_test_split(X_smote, y_smote, test_size = 0.2, stratify = y_smote, random_state = 0)"
   ]
  },
  {
   "cell_type": "code",
   "execution_count": 54,
   "metadata": {},
   "outputs": [],
   "source": [
    "X_train_1, X_val_1, y_train_1, y_val_1 = train_test_split(X_train, y, test_size = 0.2, stratify = y, random_state = 0)"
   ]
  },
  {
   "cell_type": "code",
   "execution_count": 55,
   "metadata": {},
   "outputs": [
    {
     "name": "stderr",
     "output_type": "stream",
     "text": [
      "C:\\Users\\acer\\anaconda3\\lib\\site-packages\\sklearn\\linear_model\\_logistic.py:762: ConvergenceWarning: lbfgs failed to converge (status=1):\n",
      "STOP: TOTAL NO. of ITERATIONS REACHED LIMIT.\n",
      "\n",
      "Increase the number of iterations (max_iter) or scale the data as shown in:\n",
      "    https://scikit-learn.org/stable/modules/preprocessing.html\n",
      "Please also refer to the documentation for alternative solver options:\n",
      "    https://scikit-learn.org/stable/modules/linear_model.html#logistic-regression\n",
      "  n_iter_i = _check_optimize_result(\n"
     ]
    }
   ],
   "source": [
    "model_1 = LogisticRegression()\n",
    "model_1.fit(X_train_1, y_train_1)\n",
    "pred = model_1.predict(X_val_1)"
   ]
  },
  {
   "cell_type": "code",
   "execution_count": 57,
   "metadata": {},
   "outputs": [],
   "source": [
    "from sklearn.metrics import roc_auc_score\n",
    "score_1 = roc_auc_score(y_val_1, pred)"
   ]
  },
  {
   "cell_type": "code",
   "execution_count": 58,
   "metadata": {},
   "outputs": [
    {
     "data": {
      "text/plain": [
       "0.504758842862335"
      ]
     },
     "execution_count": 58,
     "metadata": {},
     "output_type": "execute_result"
    }
   ],
   "source": [
    "score_1"
   ]
  },
  {
   "cell_type": "code",
   "execution_count": 87,
   "metadata": {},
   "outputs": [
    {
     "name": "stderr",
     "output_type": "stream",
     "text": [
      "C:\\Users\\acer\\anaconda3\\lib\\site-packages\\sklearn\\linear_model\\_logistic.py:762: ConvergenceWarning: lbfgs failed to converge (status=1):\n",
      "STOP: TOTAL NO. of ITERATIONS REACHED LIMIT.\n",
      "\n",
      "Increase the number of iterations (max_iter) or scale the data as shown in:\n",
      "    https://scikit-learn.org/stable/modules/preprocessing.html\n",
      "Please also refer to the documentation for alternative solver options:\n",
      "    https://scikit-learn.org/stable/modules/linear_model.html#logistic-regression\n",
      "  n_iter_i = _check_optimize_result(\n"
     ]
    },
    {
     "data": {
      "text/plain": [
       "Pipeline(steps=[('scaler', StandardScaler()), ('mod', LogisticRegression())])"
      ]
     },
     "execution_count": 87,
     "metadata": {},
     "output_type": "execute_result"
    }
   ],
   "source": [
    "from sklearn.preprocessing import StandardScaler\n",
    "\n",
    "steps_1 = [('scaler', StandardScaler()), ('mod', model_1)]\n",
    "pipeline_1 = Pipeline(steps = steps_1)\n",
    "#X_smote, y_smote = pipeline.fit_resample(X_train, y)\n",
    "pipeline_1.fit(X_train_smote, y_train_smote)"
   ]
  },
  {
   "cell_type": "code",
   "execution_count": 88,
   "metadata": {},
   "outputs": [],
   "source": [
    "pred_1 = pipeline_1.predict(X_val_smote)\n",
    "score_2 = roc_auc_score(y_val_smote, pred_1)"
   ]
  },
  {
   "cell_type": "code",
   "execution_count": 89,
   "metadata": {},
   "outputs": [
    {
     "data": {
      "text/plain": [
       "0.7852145633816334"
      ]
     },
     "execution_count": 89,
     "metadata": {},
     "output_type": "execute_result"
    }
   ],
   "source": [
    "score_2#with  standard scaling, the score improved significantly"
   ]
  },
  {
   "cell_type": "code",
   "execution_count": 90,
   "metadata": {},
   "outputs": [
    {
     "name": "stdout",
     "output_type": "stream",
     "text": [
      "[LightGBM] [Warning] Accuracy may be bad since you didn't set num_leaves and 2^max_depth > num_leaves\n",
      "[LightGBM] [Warning] Accuracy may be bad since you didn't set num_leaves and 2^max_depth > num_leaves\n",
      "[LightGBM] [Info] Number of positive: 27062, number of negative: 33828\n",
      "[LightGBM] [Warning] Auto-choosing col-wise multi-threading, the overhead of testing was 3.338862 seconds.\n",
      "You can set `force_col_wise=true` to remove the overhead.\n",
      "[LightGBM] [Info] Total Bins 12498\n",
      "[LightGBM] [Info] Number of data points in the train set: 60890, number of used features: 51\n",
      "[LightGBM] [Info] [binary:BoostFromScore]: pavg=0.444441 -> initscore=-0.223158\n",
      "[LightGBM] [Info] Start training from score -0.223158\n",
      "[LightGBM] [Warning] No further splits with positive gain, best gain: -inf\n",
      "[LightGBM] [Warning] No further splits with positive gain, best gain: -inf\n",
      "[LightGBM] [Warning] No further splits with positive gain, best gain: -inf\n",
      "[LightGBM] [Warning] No further splits with positive gain, best gain: -inf\n",
      "[LightGBM] [Warning] No further splits with positive gain, best gain: -inf\n"
     ]
    },
    {
     "data": {
      "text/plain": [
       "Pipeline(steps=[('scaler', StandardScaler()),\n",
       "                ('mod',\n",
       "                 LGBMClassifier(max_depth=5, n_estimators=30, random_state=0,\n",
       "                                silent=False))])"
      ]
     },
     "execution_count": 90,
     "metadata": {},
     "output_type": "execute_result"
    }
   ],
   "source": [
    "import lightgbm as lgb\n",
    "from lightgbm import LGBMModel,LGBMClassifier\n",
    "model_2 = LGBMClassifier(n_estimators=30, silent=False, random_state =0, max_depth=5)\n",
    "steps_2 = [('scaler', StandardScaler()), ('mod', model_2)]\n",
    "pipeline_2 = Pipeline(steps = steps_2)\n",
    "pipeline_2.fit(X_train_smote, y_train_smote)"
   ]
  },
  {
   "cell_type": "code",
   "execution_count": 91,
   "metadata": {},
   "outputs": [],
   "source": [
    "pred_2 = pipeline_2.predict(X_val_smote)\n",
    "score_3 = roc_auc_score(y_val_smote, pred_2)"
   ]
  },
  {
   "cell_type": "code",
   "execution_count": 92,
   "metadata": {},
   "outputs": [
    {
     "data": {
      "text/plain": [
       "0.8324969920514942"
      ]
     },
     "execution_count": 92,
     "metadata": {},
     "output_type": "execute_result"
    }
   ],
   "source": [
    "score_3"
   ]
  },
  {
   "cell_type": "code",
   "execution_count": 93,
   "metadata": {},
   "outputs": [
    {
     "data": {
      "text/plain": [
       "Pipeline(steps=[('scaler', StandardScaler()),\n",
       "                ('mod', RandomForestClassifier())])"
      ]
     },
     "execution_count": 93,
     "metadata": {},
     "output_type": "execute_result"
    }
   ],
   "source": [
    "from sklearn.ensemble import RandomForestClassifier\n",
    "model_3 =RandomForestClassifier()\n",
    "steps_3 = [('scaler', StandardScaler()), ('mod', model_3)]\n",
    "pipeline_3 = Pipeline(steps = steps_3)\n",
    "pipeline_3.fit(X_train_smote, y_train_smote)"
   ]
  },
  {
   "cell_type": "code",
   "execution_count": 94,
   "metadata": {},
   "outputs": [],
   "source": [
    "pred_3 = pipeline_3.predict(X_val_smote)\n",
    "score_3 = roc_auc_score(y_val_smote, pred_3)"
   ]
  },
  {
   "cell_type": "code",
   "execution_count": 95,
   "metadata": {},
   "outputs": [
    {
     "data": {
      "text/plain": [
       "0.8489328008767275"
      ]
     },
     "execution_count": 95,
     "metadata": {},
     "output_type": "execute_result"
    }
   ],
   "source": [
    "score_3"
   ]
  },
  {
   "cell_type": "code",
   "execution_count": 75,
   "metadata": {},
   "outputs": [
    {
     "data": {
      "text/plain": [
       "Pipeline(steps=[('scaler', StandardScaler()), ('pc', PCA(n_components=50)),\n",
       "                ('mod', RandomForestClassifier())])"
      ]
     },
     "execution_count": 75,
     "metadata": {},
     "output_type": "execute_result"
    }
   ],
   "source": [
    "#lets reduce the dimensionality\n",
    "from sklearn.decomposition import PCA\n",
    "pca = PCA(n_components=50)\n",
    "#pca.fit(X_scaled)\n",
    "steps_4 = [('scaler', StandardScaler()),('pc', pca), ('mod', model_3)]\n",
    "pipeline_4 = Pipeline(steps = steps_4)\n",
    "pipeline_4.fit(X_train_smote, y_train_smote)"
   ]
  },
  {
   "cell_type": "code",
   "execution_count": 76,
   "metadata": {},
   "outputs": [],
   "source": [
    "pred_4 = pipeline_4.predict(X_val_smote)\n",
    "score_4 = roc_auc_score(y_val_smote, pred_4)"
   ]
  },
  {
   "cell_type": "code",
   "execution_count": 77,
   "metadata": {},
   "outputs": [
    {
     "data": {
      "text/plain": [
       "0.769796927709602"
      ]
     },
     "execution_count": 77,
     "metadata": {},
     "output_type": "execute_result"
    }
   ],
   "source": [
    "score_4"
   ]
  },
  {
   "cell_type": "code",
   "execution_count": 74,
   "metadata": {},
   "outputs": [],
   "source": [
    "model3 = LGBMClassifier(n_estimators=50, silent=False, random_state =0, max_depth=10)"
   ]
  },
  {
   "cell_type": "code",
   "execution_count": 78,
   "metadata": {},
   "outputs": [
    {
     "data": {
      "text/plain": [
       "Pipeline(steps=[('scaler', RobustScaler()), ('mod', RandomForestClassifier())])"
      ]
     },
     "execution_count": 78,
     "metadata": {},
     "output_type": "execute_result"
    }
   ],
   "source": [
    "from sklearn.preprocessing import RobustScaler\n",
    "#trans=RobustScaler()\n",
    "model_5 =RandomForestClassifier()\n",
    "steps_5 = [('scaler', RobustScaler()), ('mod', model_5)]\n",
    "pipeline_5 = Pipeline(steps = steps_5)\n",
    "pipeline_5.fit(X_train_smote, y_train_smote)"
   ]
  },
  {
   "cell_type": "code",
   "execution_count": 79,
   "metadata": {},
   "outputs": [],
   "source": [
    "pred_5 = pipeline_5.predict(X_val_smote)\n",
    "score_5 = roc_auc_score(y_val_smote, pred_5)"
   ]
  },
  {
   "cell_type": "code",
   "execution_count": 81,
   "metadata": {},
   "outputs": [
    {
     "data": {
      "text/plain": [
       "0.7813849473109664"
      ]
     },
     "execution_count": 81,
     "metadata": {},
     "output_type": "execute_result"
    }
   ],
   "source": [
    "score_5"
   ]
  },
  {
   "cell_type": "code",
   "execution_count": null,
   "metadata": {},
   "outputs": [],
   "source": [
    "from sklearn.svm import SVC\n",
    "model_0 = SVC()\n",
    "steps_0 = [('scaler', StandardScaler()), ('mod', model_0)]\n",
    "pipeline_0 = Pipeline(steps = steps_0)\n",
    "pipeline_0.fit(X_train_smote, y_train_smote)"
   ]
  },
  {
   "cell_type": "code",
   "execution_count": null,
   "metadata": {},
   "outputs": [],
   "source": [
    "pred_0 = pipeline_0.predict(X_val_smote)\n",
    "score_0 = roc_auc_score(y_val_smote, pred_0)"
   ]
  },
  {
   "cell_type": "code",
   "execution_count": null,
   "metadata": {},
   "outputs": [],
   "source": [
    "from sklearn.ensemble import StackingClassifier\n",
    "lev0 = list()\n",
    "lev0.append('md', model_2)\n",
    "lev0.append('md1', model_3)\n",
    "lev0.append()"
   ]
  }
 ],
 "metadata": {
  "kernelspec": {
   "display_name": "Python 3",
   "language": "python",
   "name": "python3"
  },
  "language_info": {
   "codemirror_mode": {
    "name": "ipython",
    "version": 3
   },
   "file_extension": ".py",
   "mimetype": "text/x-python",
   "name": "python",
   "nbconvert_exporter": "python",
   "pygments_lexer": "ipython3",
   "version": "3.8.3"
  }
 },
 "nbformat": 4,
 "nbformat_minor": 4
}
